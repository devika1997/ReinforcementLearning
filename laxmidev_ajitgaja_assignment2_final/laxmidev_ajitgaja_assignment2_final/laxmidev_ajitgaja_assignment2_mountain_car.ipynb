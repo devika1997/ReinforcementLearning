{
 "cells": [
  {
   "cell_type": "markdown",
   "metadata": {},
   "source": [
    "**\"I / we certify that the code and data in this assignment were generated independently, using only the tools\n",
    "and resources defined in the course and that I/we did not receive any external help, coaching, or contributions\n",
    "during the production of this work.\"**"
   ]
  },
  {
   "cell_type": "code",
   "execution_count": 1,
   "metadata": {},
   "outputs": [],
   "source": [
    "import numpy as np\n",
    "import time\n",
    "import matplotlib.pyplot as plt\n",
    "import gym\n",
    "from gym import spaces\n",
    "from matplotlib.offsetbox import (AnnotationBbox, OffsetImage)\n",
    "import cv2\n",
    "import random\n",
    "import torch\n",
    "import torch.nn as nn\n",
    "import torch.nn.functional as F\n",
    "import torch.optim as optim\n",
    "device = torch.device('cuda:0' if torch.cuda.is_available() else 'cpu')"
   ]
  },
  {
   "cell_type": "code",
   "execution_count": 2,
   "metadata": {},
   "outputs": [],
   "source": [
    "class DQNmodel(nn.Module):\n",
    "    \n",
    "    def __init__(self, n_inputs, n_actions, lr,hiddennodes):\n",
    "        super().__init__()\n",
    "        self.hNodes = hiddennodes\n",
    "        self.fc1 = nn.Linear(n_inputs, self.hNodes)\n",
    "        self.fc2 = nn.Linear(self.hNodes,self.hNodes)\n",
    "        self.fc3 = nn.Linear(self.hNodes,self.hNodes)\n",
    "        self.fc4 = nn.Linear(self.hNodes, n_actions)\n",
    "        self.optimizer = optim.Adam(self.parameters(), lr=lr)\n",
    "        self.criterion = nn.MSELoss()\n",
    "        \n",
    "    def forward(self, x):\n",
    "        # x = torch.flatten(x,1)\n",
    "        x = F.relu(self.fc1(x))\n",
    "        x = F.relu(self.fc2(x))\n",
    "        x = F.relu(self.fc3(x))\n",
    "        x = self.fc4(x)\n",
    "        return x\n"
   ]
  },
  {
   "cell_type": "code",
   "execution_count": 3,
   "metadata": {},
   "outputs": [],
   "source": [
    "class experience:\n",
    "\n",
    "    def __init__(self):\n",
    "        self.exp_buffer = []\n",
    "\n",
    "\n",
    "    def empty_buffer(self):\n",
    "\n",
    "        self.exp_buffer = []\n",
    "\n",
    "    def __len__(self):\n",
    "        return len(self.exp_buffer)\n",
    "\n",
    "\n",
    "    def log_exp(self, input_vector_s1, action_current, reward,input_vector_s2):\n",
    "        input_vector_s1 = input_vector_s1.type(torch.float)\n",
    "        input_vector_s2 = input_vector_s2.type(torch.float)\n",
    "        action_current = torch.tensor(action_current).type(torch.float)\n",
    "        reward = torch.tensor(reward).type(torch.float)\n",
    "\n",
    "        exp_vector = [input_vector_s1, action_current,reward, input_vector_s2]\n",
    "\n",
    "        self.exp_buffer.append(exp_vector)\n",
    "\n",
    "    \n",
    "\n",
    "    def get_exp(self):\n",
    "\n",
    "        return self.exp_buffer"
   ]
  },
  {
   "cell_type": "code",
   "execution_count": 4,
   "metadata": {},
   "outputs": [],
   "source": [
    "\"\"\"\n",
    "  Most Probably the Q learning and sarsa function go over here.\n",
    "\"\"\"\n",
    "\n",
    "class RandomAgent:\n",
    "  def __init__(self, env):\n",
    "    self.env = env\n",
    "    self.observation_space = env.observation_space # Observation Space\n",
    "    self.action_space = env.action_space # Action space\n",
    "\n",
    "  def epsilon_decay(self, current_eps, decay_factor, min_eps, current_episode, max_eps = 1):\n",
    "    # Epsilon decay\n",
    "    eps = max(current_eps*decay_factor, min_eps)\n",
    "    # eps = min_eps + (max_eps - min_eps)* np.exp(-decay_factor*current_episode)\n",
    "    return eps  \n",
    "       \n",
    "  def step(self, action, render_mode=\"Deterministic\"):\n",
    "    \n",
    "    if render_mode == \"Deterministic\":\n",
    "        action_step = action\n",
    "    \n",
    "    return action_step"
   ]
  },
  {
   "cell_type": "code",
   "execution_count": 5,
   "metadata": {},
   "outputs": [],
   "source": [
    "import math\n",
    "\"\"\"\n",
    "This function is used for training the model\n",
    "\n",
    "- Input Parameters \n",
    "    = Initial Epsilon \n",
    "    = Policy model object\n",
    "    = Target model object\n",
    "    = Experience object\n",
    "    = Environment Object\n",
    "    = Agent Object\n",
    "    = Epochs\n",
    "    = Batch size\n",
    "    = Learning rate\n",
    "    = Replay Size\n",
    "\n",
    "DOUBLE DQN \n",
    "1 -> Double DQN\n",
    "0 -> DQN\n",
    "\n",
    "\"\"\"\n",
    "\n",
    "def train_modelM(env, agent,model, exp, eps_init, epochs, replay_size, batch_size,hnodes, lr ,doubledqn):\n",
    "  \n",
    "    # Epsilon decay list for logging\n",
    "    eps_decay_data = []\n",
    "\n",
    "    # Score List for logging\n",
    "    score_data = []\n",
    "\n",
    "    # Setting the epsilon value to 1 at start\n",
    "    eps= eps_init\n",
    "    j = 1\n",
    "\n",
    "    loss_list = []\n",
    "\n",
    "    # Creating the policy model \n",
    "    policy = model(env.observation_space.shape[0],env.action_space.n,lr,hnodes)\n",
    "\n",
    "    # Creating target model\n",
    "    target = model(env.observation_space.shape[0],env.action_space.n,lr,hnodes)\n",
    "    \n",
    "   \n",
    "    for x in range(epochs):\n",
    "        \n",
    "        # print(x)\n",
    "\n",
    "        # Resetting the environment\n",
    "        obs = env.reset()\n",
    "\n",
    "        #print(obs)\n",
    "        input_vector_s1_tensor = torch.from_numpy(obs)\n",
    "        \n",
    "\n",
    "        # Setting the inital paramters per episode\n",
    "        done = False\n",
    "        score = 0\n",
    "        \n",
    "        count = 0\n",
    "        \n",
    "\n",
    "\n",
    "        # While Loop\n",
    "        while not done:\n",
    "            \n",
    "    \n",
    "            count += 1\n",
    "            \n",
    "            \n",
    "            # Selecting the greedy action or the random action depending the epsilon value\n",
    "            if random.uniform(0,1) < eps:\n",
    "                # Selecting some random number betwwen the action space \n",
    "                action_num = np.random.choice(env.action_space.n)\n",
    "            else:\n",
    "                # Selecting the greedy action\n",
    "                input_vector_s1_tensor = input_vector_s1_tensor.type(torch.float)\n",
    "                with torch.no_grad():\n",
    "                    policy.eval()\n",
    "                    action_num = torch.argmax(policy(input_vector_s1_tensor)).item()\n",
    "                    #print(action_num)\n",
    "\n",
    "            # First action that the agent is going to take before the while loop starts\n",
    "            new_state, reward, done, _ = env.step(action_num)\n",
    "\n",
    "            input_vector_s2_tensor = torch.from_numpy(new_state)\n",
    "            reward=100*((math.sin(3*new_state[0]) * 0.0025 + 0.5 * new_state[1] * new_state[1]) - (math.sin(3*input_vector_s1_tensor.numpy()[0]) * 0.0025 + 0.5 * input_vector_s1_tensor.numpy()[1] * input_vector_s1_tensor.numpy()[1]))\n",
    "            #print(\"after\",reward)\n",
    "            score +=reward\n",
    "            # Appending the experience to the list\n",
    "            exp.log_exp(input_vector_s1_tensor, action_num, reward, input_vector_s2_tensor)\n",
    "            input_vector_s1_tensor =input_vector_s2_tensor\n",
    "\n",
    "            #score += reward\n",
    "            \n",
    "\n",
    "            if exp.__len__() >= replay_size:\n",
    "                j += 1\n",
    "                #print(\"Training the model, length of batch size is \", len(exp_replay))\n",
    "                batch = random.sample(exp.exp_buffer, batch_size)\n",
    "\n",
    "\n",
    "                s1_batch = torch.stack([st1 for (st1, a1, r , st2) in batch])\n",
    "                s2_batch = torch.stack([st2 for (st1, a1, r , st2) in batch])\n",
    "                a_batch = torch.stack([a1 for (st1, a1, r , st2) in batch])\n",
    "                r_batch = torch.stack([r for (st1, a1, r , st2) in batch])\n",
    "\n",
    "\n",
    "\n",
    "                s1_batch = s1_batch.type(torch.float)\n",
    "                s2_batch = s2_batch.type(torch.float)\n",
    "                a_batch = a_batch.type(torch.float)\n",
    "                policy_q = policy(s1_batch)\n",
    "                policy_q1=policy(s2_batch)\n",
    "                target_q = target(s2_batch)\n",
    "                X = policy_q.gather(dim=1, index=a_batch.long().unsqueeze(dim=1)).squeeze()\n",
    "                if(doubledqn==0):\n",
    "                    Y = r_batch + disc_factor*(torch.max(target_q, dim=1)[0])\n",
    "                else:\n",
    "                    Y = r_batch + disc_factor*(torch.max(policy_q1, dim=1)[0])\n",
    "\n",
    "                #print(r_batch)  \n",
    "                #print(Y)\n",
    "                loss  = policy.criterion(X,Y.detach())\n",
    "                #print(loss)\n",
    "                policy.optimizer.zero_grad()\n",
    "                loss.backward()\n",
    "\n",
    "                loss_list.append(loss.item())\n",
    "                policy.optimizer.step()\n",
    "                \n",
    "                if j % 100 == 0:\n",
    "                    target.load_state_dict(policy.state_dict())\n",
    "\n",
    "                # Experience Replay\n",
    "                exp.empty_buffer()\n",
    "\n",
    "        #print(count)\n",
    "        score_data.append(score)\n",
    "        eps_decay_data.append(eps)\n",
    "        # Epsilon Decay\n",
    "        #if eps > min_eps:\n",
    "            #eps *= decay_factor\n",
    "        eps = agent.epsilon_decay(eps,decay_factor, min_eps,x)\n",
    "\n",
    "    return eps_decay_data, score_data, policy\n"
   ]
  },
  {
   "cell_type": "code",
   "execution_count": 6,
   "metadata": {},
   "outputs": [],
   "source": [
    "\n",
    "def evaluate_modelM(env, agent, trained_model, eval_epochs):\n",
    "    # Score List for logging\n",
    "    score_data1 = []\n",
    "\n",
    "    # Episodes iteration\n",
    "    for x in range(eval_epochs):\n",
    "\n",
    "        # Resetting the environment\n",
    "        obs = env.reset()\n",
    "\n",
    "    \n",
    "        input_vector_s1_tensor = torch.from_numpy(obs)\n",
    "        \n",
    "\n",
    "        # Setting the inital paramters per episode\n",
    "        done = False\n",
    "        score = 0\n",
    "        \n",
    "        env.reset()\n",
    "\n",
    "        # While loop for the iterations\n",
    "        while not done:\n",
    "\n",
    "            with torch.no_grad():\n",
    "                trained_model.eval()\n",
    "                action_num = torch.argmax(trained_model(input_vector_s1_tensor.float())).item()\n",
    "                # print(action_num)\n",
    "\n",
    "            # Selection the action\n",
    "            #action_current = agent.step(action_num)\n",
    "            new_state, reward, done, _ = env.step(action_num)\n",
    "\n",
    "            input_vector_s1_tensor = torch.from_numpy(new_state)\n",
    "            \n",
    "            # Adding the reward to the score\n",
    "            score += reward\n",
    "            env.render()\n",
    "            # time.sleep(0.1)\n",
    "            \n",
    "        score_data1.append(score)\n",
    "    env.close()\n",
    "    return score_data1"
   ]
  },
  {
   "cell_type": "markdown",
   "metadata": {},
   "source": [
    "**DQN**"
   ]
  },
  {
   "cell_type": "code",
   "execution_count": 7,
   "metadata": {},
   "outputs": [],
   "source": [
    "m = gym.make(\"MountainCar-v0\")\n",
    "m.reset()\n",
    "agent = RandomAgent(m)\n",
    "exp = experience()\n",
    "min_eps = 0.01\n",
    "epochs  = 10000\n",
    "decay_factor = float((min_eps)**(1/epochs))\n",
    "eps_thres = 0.6\n",
    "disc_factor = 0.99\n",
    "replay_size = 500\n",
    "batch_size = 256\n",
    "#print(m.action_space.n)\n",
    "x5, y5, model5 = train_modelM(m, agent, DQNmodel,exp, 1, epochs, replay_size, batch_size,256, 0.001,0)"
   ]
  },
  {
   "cell_type": "markdown",
   "metadata": {},
   "source": [
    "**Rewards per episode and Epsilon Decay**"
   ]
  },
  {
   "cell_type": "code",
   "execution_count": 8,
   "metadata": {},
   "outputs": [
    {
     "data": {
      "image/png": "[encoded data removed]",
      "text/plain": [
       "<Figure size 720x360 with 2 Axes>"
      ]
     },
     "metadata": {
      "needs_background": "light"
     },
     "output_type": "display_data"
    }
   ],
   "source": [
    "fig = plt.figure(figsize=(10,5))\n",
    "plt.subplot(1,2,1)\n",
    "xn = range(len(y5))\n",
    "plt.plot(xn,y5)\n",
    "plt.title('Total Reward per Episode')\n",
    "plt.ylabel('Rewards')\n",
    "plt.xlabel('Episodes')\n",
    "\n",
    "\n",
    "plt.subplot(1,2,2)\n",
    "x1= range(len(x5))\n",
    "plt.plot(x1,x5)\n",
    "plt.title('Epsilon decay')\n",
    "plt.ylabel('Epsilons')\n",
    "plt.xlabel('Episodes')\n",
    "\n",
    "fig.tight_layout()\n",
    "plt.show()"
   ]
  },
  {
   "cell_type": "code",
   "execution_count": 9,
   "metadata": {},
   "outputs": [
    {
     "data": {
      "text/plain": [
       "[<matplotlib.lines.Line2D at 0x1b972d5b460>]"
      ]
     },
     "execution_count": 9,
     "metadata": {},
     "output_type": "execute_result"
    },
    {
     "data": {
      "image/png": "[encoded data removed]",
      "text/plain": [
       "<Figure size 432x288 with 1 Axes>"
      ]
     },
     "metadata": {
      "needs_background": "light"
     },
     "output_type": "display_data"
    }
   ],
   "source": [
    "sd1 = evaluate_modelM(m, agent, model5, 5)\n",
    "plt.plot(sd1)\n",
    "# print(sd1)"
   ]
  },
  {
   "cell_type": "markdown",
   "metadata": {},
   "source": [
    "**Double DQN**"
   ]
  },
  {
   "cell_type": "code",
   "execution_count": 10,
   "metadata": {},
   "outputs": [],
   "source": [
    "m = gym.make(\"MountainCar-v0\")\n",
    "m.reset()\n",
    "agent = RandomAgent(m)\n",
    "exp = experience()\n",
    "min_eps = 0.1\n",
    "epochs  = 12000\n",
    "decay_factor = float((min_eps)**(1/epochs))\n",
    "eps_thres = 0.6\n",
    "disc_factor = 0.8\n",
    "replay_size = 1000\n",
    "batch_size = 850\n",
    "#print(m.action_space.n)\n",
    "x6, y6, model6 = train_modelM(m, agent, DQNmodel,exp, 1, epochs, replay_size, batch_size,256, 0.001,1)"
   ]
  },
  {
   "cell_type": "markdown",
   "metadata": {},
   "source": [
    "**Rewards per episode and Epsilon Decay**"
   ]
  },
  {
   "cell_type": "code",
   "execution_count": null,
   "metadata": {},
   "outputs": [
    {
     "data": {
      "image/png": "[encoded data removed]",
      "text/plain": [
       "<Figure size 720x360 with 2 Axes>"
      ]
     },
     "metadata": {
      "needs_background": "light"
     },
     "output_type": "display_data"
    }
   ],
   "source": [
    "fig = plt.figure(figsize=(10,5))\n",
    "plt.subplot(1,2,1)\n",
    "xn = range(len(y6))\n",
    "plt.plot(xn,y6)\n",
    "plt.title('Total Reward per Episode')\n",
    "plt.ylabel('Rewards')\n",
    "plt.xlabel('Episodes')\n",
    "\n",
    "\n",
    "plt.subplot(1,2,2)\n",
    "x1= range(len(x6))\n",
    "plt.plot(x1,x6)\n",
    "plt.title('Epsilon decay')\n",
    "plt.ylabel('Epsilons')\n",
    "plt.xlabel('Episodes')\n",
    "\n",
    "fig.tight_layout()\n",
    "plt.show()"
   ]
  },
  {
   "cell_type": "code",
   "execution_count": null,
   "metadata": {},
   "outputs": [
    {
     "data": {
      "text/plain": [
       "[<matplotlib.lines.Line2D at 0x7fedfd386730>]"
      ]
     },
     "execution_count": 24,
     "metadata": {},
     "output_type": "execute_result"
    },
    {
     "data": {
      "image/png": "[encoded data removed]",
      "text/plain": [
       "<Figure size 432x288 with 1 Axes>"
      ]
     },
     "metadata": {
      "needs_background": "light"
     },
     "output_type": "display_data"
    }
   ],
   "source": [
    "sd1 = evaluate_modelM(m, agent, model6, 5)\n",
    "plt.plot(sd1)"
   ]
  }
 ],
 "metadata": {
  "interpreter": {
   "hash": "7d15a3258ed890393d55d2a553394250e00c408071094df2492a0a7cd6038fb0"
  },
  "kernelspec": {
   "display_name": "Python 3.8.12 ('swarm_rl')",
   "language": "python",
   "name": "python3"
  },
  "language_info": {
   "codemirror_mode": {
    "name": "ipython",
    "version": 3
   },
   "file_extension": ".py",
   "mimetype": "text/x-python",
   "name": "python",
   "nbconvert_exporter": "python",
   "pygments_lexer": "ipython3",
   "version": "3.9.0"
  },
  "orig_nbformat": 4
 },
 "nbformat": 4,
 "nbformat_minor": 2
}
